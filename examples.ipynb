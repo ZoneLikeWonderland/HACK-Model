{
 "cells": [
  {
   "cell_type": "code",
   "execution_count": 1,
   "metadata": {},
   "outputs": [],
   "source": [
    "import numpy as np\n",
    "import os\n",
    "import tqdm\n",
    "import hack_model\n",
    "import helper\n",
    "import torch\n",
    "\n",
    "%load_ext autoreload\n",
    "%autoreload 2"
   ]
  },
  {
   "attachments": {},
   "cell_type": "markdown",
   "metadata": {},
   "source": [
    "1. Load the HACK Model"
   ]
  },
  {
   "cell_type": "code",
   "execution_count": 2,
   "metadata": {},
   "outputs": [],
   "source": [
    "device = torch.device(\"cuda\")\n",
    "hack = hack_model.HACK().to(device)\n",
    "S = hack_model.load_pca(r\"model/S.npy\").to(device)\n",
    "E = hack_model.load_pca(r\"model/E.npy\").to(device)\n",
    "P = hack_model.load_pca(r\"model/P.npy\").to(device)\n",
    "\n",
    "template_path = \"model/000_generic_neutral_mesh.obj\"\n",
    "output = \"output\"\n"
   ]
  },
  {
   "attachments": {},
   "cell_type": "markdown",
   "metadata": {},
   "source": [
    "2. Generate a random sample"
   ]
  },
  {
   "cell_type": "code",
   "execution_count": 3,
   "metadata": {},
   "outputs": [],
   "source": [
    "beta = torch.randn(1, 200).to(device)\n",
    "theta = torch.zeros(1, 8, 3).to(device)\n",
    "tau = torch.zeros(1, 1).to(device)\n",
    "alpha = torch.ones(1, 1).to(device)\n",
    "bsw = torch.zeros(1, 55).to(device)\n",
    "\n",
    "T_transformed_0 = hack(theta, tau, alpha, bsw, T=S(beta), E=E(), P=P())[\"T_transformed\"][0].cpu().numpy()\n",
    "os.makedirs(output, exist_ok=True)\n",
    "helper.write_obj(template_path, T_transformed_0, f\"{output}/T_transformed_0.obj\")\n"
   ]
  },
  {
   "attachments": {},
   "cell_type": "markdown",
   "metadata": {},
   "source": [
    "3. Generate a pre-recorded sequence"
   ]
  },
  {
   "cell_type": "code",
   "execution_count": 4,
   "metadata": {},
   "outputs": [
    {
     "name": "stderr",
     "output_type": "stream",
     "text": [
      "100%|██████████| 500/500 [00:15<00:00, 32.60it/s]\n"
     ]
    }
   ],
   "source": [
    "theta_list = torch.tensor(np.load(r\"data/theta_list.npy\")).to(torch.float32).to(device)\n",
    "tau_list = torch.tensor(np.load(r\"data/tau_list.npy\")).to(torch.float32).to(device)\n",
    "alpha_list = torch.tensor(np.load(r\"data/alpha_list.npy\")).to(torch.float32).to(device)\n",
    "bsw_list = torch.tensor(np.load(r\"data/bsw_list.npy\")).to(torch.float32).to(device)\n",
    "\n",
    "os.makedirs(f\"{output}/seq\", exist_ok=True)\n",
    "\n",
    "for i, (theta, tau, alpha, bsw) in tqdm.tqdm(enumerate(zip(theta_list, tau_list, alpha_list, bsw_list)), total=len(theta_list)):\n",
    "    T_transformed_0 = hack(theta[None], tau[None], alpha[None], bsw[None], T=S(beta), E=E(), P=P())[\"T_transformed\"][0].cpu().numpy()\n",
    "    helper.write_obj(template_path, T_transformed_0, f\"{output}/seq/{i:06d}.obj\")\n"
   ]
  }
 ],
 "metadata": {
  "kernelspec": {
   "display_name": "Python 3",
   "language": "python",
   "name": "python3"
  },
  "language_info": {
   "codemirror_mode": {
    "name": "ipython",
    "version": 3
   },
   "file_extension": ".py",
   "mimetype": "text/x-python",
   "name": "python",
   "nbconvert_exporter": "python",
   "pygments_lexer": "ipython3",
   "version": "3.7.9"
  },
  "orig_nbformat": 4
 },
 "nbformat": 4,
 "nbformat_minor": 2
}
